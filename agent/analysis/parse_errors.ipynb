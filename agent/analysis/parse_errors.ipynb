{
 "cells": [
  {
   "cell_type": "code",
   "execution_count": null,
   "metadata": {},
   "outputs": [],
   "source": [
    "import re\n",
    "\n",
    "def parse_traceback(tb_string):\n",
    "    # Regular expressions to match different parts of the traceback\n",
    "    file_line_func_pattern = r'File \"(.+)\", line (\\d+), in (.+)'\n",
    "    error_pattern = r'^(\\w+(?:\\.\\w+)*): (.+)$'\n",
    "\n",
    "    lines = tb_string.strip().split('\\n')\n",
    "    parsed_info = {\n",
    "        'frames': [],\n",
    "        'error_type': None,\n",
    "        'error_message': None\n",
    "    }\n",
    "\n",
    "    for line in lines:\n",
    "        # Check for file, line, and function information\n",
    "        file_line_func_match = re.search(file_line_func_pattern, line)\n",
    "        if file_line_func_match:\n",
    "            parsed_info['frames'].append({\n",
    "                'file': file_line_func_match.group(1),\n",
    "                'line': int(file_line_func_match.group(2)),\n",
    "                'function': file_line_func_match.group(3)\n",
    "            })\n",
    "        \n",
    "        # Check for error type and message\n",
    "        error_type_mapping = {\n",
    "            \"grpc._channel._InactiveRpcError\": \"Connection Timeout\",\n",
    "            \"httpcore.ReadTimeout\": \"Connection Timeout\",\n",
    "            \"pydantic.error_wrappers.ValidationError\": \"Wrong Tool Usage\",\n",
    "            \"langgraph.errors.GraphRecursionError\": \"Backtracking Exceeded\",\n",
    "        }\n",
    "\n",
    "        error_match = re.search(error_pattern, line)\n",
    "        if error_match and not parsed_info['error_type']:\n",
    "            parsed_info['error_type'] = error_match.group(1)\n",
    "            parsed_info['error_type'] = parsed_info['error_type'].replace(\"anthropic.\", \"\").replace(\"openai.\", \"\")\n",
    "            parsed_info['error_type'] = error_type_mapping.get(parsed_info['error_type'], parsed_info['error_type'])\n",
    "\n",
    "            parsed_info['error_message'] = error_match.group(2)\n",
    "\n",
    "    # If frames exist, get the last frame (where the error occurred)\n",
    "    if parsed_info['frames']:\n",
    "        last_frame = parsed_info['frames'][-1]\n",
    "        parsed_info['error_file'] = last_frame['file']\n",
    "        parsed_info['error_line'] = last_frame['line']\n",
    "        parsed_info['error_function'] = last_frame['function']\n",
    "\n",
    "    return parsed_info\n"
   ]
  }
 ],
 "metadata": {
  "language_info": {
   "name": "python"
  }
 },
 "nbformat": 4,
 "nbformat_minor": 2
}
