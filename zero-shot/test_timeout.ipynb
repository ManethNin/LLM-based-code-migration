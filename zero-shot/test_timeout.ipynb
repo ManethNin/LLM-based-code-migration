{
 "cells": [
  {
   "cell_type": "code",
   "execution_count": 4,
   "metadata": {},
   "outputs": [
    {
     "name": "stdout",
     "output_type": "stream",
     "text": [
      "Pulling image ghcr.io/lukvonstrom/multilspy-java-docker:latest...\n",
      "True True\n"
     ]
    }
   ],
   "source": [
    "from masterthesis.agent.DockerAgent import DockerAgent\n",
    "\n",
    "\n",
    "docker_agent = DockerAgent(\n",
    "            \"ghcr.io/lukvonstrom/multilspy-java-docker:latest\", \"/tmp/test_project\"\n",
    ")\n",
    "\n",
    "docker_agent.pull_image()\n",
    "container = docker_agent.client.containers.create(\n",
    "    image=docker_agent.image,\n",
    "    entrypoint=\"/bin/bash\",  # Keeps the container running\n",
    "    tty=True,\n",
    ")\n",
    "container.start()\n",
    "try:\n",
    "\n",
    "  output_code, docker_output = docker_agent.execute_command(container,\"timeout 5s sleep 10\", \"/root\")\n",
    "  print(int(output_code) == 124\n",
    "                or int(output_code) == 137\n",
    "                or \"timeout: sending signal TERM to command\" in docker_output, int(output_code) == 124)\n",
    "finally:\n",
    "  container.stop()"
   ]
  }
 ],
 "metadata": {
  "kernelspec": {
   "display_name": ".venv",
   "language": "python",
   "name": "python3"
  },
  "language_info": {
   "codemirror_mode": {
    "name": "ipython",
    "version": 3
   },
   "file_extension": ".py",
   "mimetype": "text/x-python",
   "name": "python",
   "nbconvert_exporter": "python",
   "pygments_lexer": "ipython3",
   "version": "3.12.4"
  }
 },
 "nbformat": 4,
 "nbformat_minor": 2
}
